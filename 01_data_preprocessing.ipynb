{
 "cells": [
  {
   "cell_type": "code",
   "execution_count": null,
   "metadata": {},
   "outputs": [],
   "source": [
    "# | default_exp data_preprocessing"
   ]
  },
  {
   "cell_type": "markdown",
   "metadata": {},
   "source": [
    "# Data Preprocessing\n",
    "\n",
    "> In this section, we will process our dataset before passing to the modelling phase.\n"
   ]
  },
  {
   "cell_type": "code",
   "execution_count": null,
   "metadata": {},
   "outputs": [],
   "source": [
    "# |export\n",
    "import pandas as pd\n",
    "import numpy as np\n",
    "import holidays\n",
    "import math\n",
    "import matplotlib.pyplot as plt\n",
    "import seaborn as sns\n",
    "import torch\n",
    "import warnings\n",
    "warnings.filterwarnings('ignore')\n",
    "from sklearn.preprocessing import StandardScaler\n",
    "from sklearn.pipeline import Pipeline\n",
    "from datetime import datetime, timedelta\n",
    "from pathlib import Path\n",
    "from sklearn.preprocessing import OneHotEncoder\n",
    "from sklearn.base import BaseEstimator, TransformerMixin\n",
    "from datetime import datetime\n",
    "from nbdev.showdoc import *"
   ]
  },
  {
   "cell_type": "markdown",
   "metadata": {},
   "source": [
    "## Load datasets"
   ]
  },
  {
   "cell_type": "markdown",
   "metadata": {},
   "source": [
    "We're developing a function that will load a csv data file and return a \"pandas\" DataFrame. An error will be thrown by the function if the path is incorrect or the file is empty."
   ]
  },
  {
   "cell_type": "code",
   "execution_count": null,
   "metadata": {},
   "outputs": [],
   "source": [
    "# |export\n",
    "def load_data(path):\n",
    "    \"\"\"Load a dataframe.\"\"\"\n",
    "    if isinstance(path, (str, Path)):\n",
    "        df = pd.read_csv(path)\n",
    "        if df.empty:\n",
    "            raise ValueError(\"DataFrame Is empty\")\n",
    "    else:\n",
    "        raise ValueError(\"Check your data path\")\n",
    "    return df"
   ]
  },
  {
   "cell_type": "code",
   "execution_count": null,
   "metadata": {},
   "outputs": [],
   "source": [
    "# train dataset path\n",
    "path_train = \"./Data/facebook_train.csv\"\n",
    "# test dataset path\n",
    "path_test = \"./Data/facebook_test_no_target.csv\"\n",
    "# train data\n",
    "Xy_train = load_data(path_train)\n",
    "# test data\n",
    "X_test = load_data(path_test)"
   ]
  },
  {
   "cell_type": "markdown",
   "metadata": {},
   "source": [
    "## Data example"
   ]
  },
  {
   "cell_type": "code",
   "execution_count": null,
   "metadata": {},
   "outputs": [
    {
     "data": {
      "text/html": [
       "<div>\n",
       "<style scoped>\n",
       "    .dataframe tbody tr th:only-of-type {\n",
       "        vertical-align: middle;\n",
       "    }\n",
       "\n",
       "    .dataframe tbody tr th {\n",
       "        vertical-align: top;\n",
       "    }\n",
       "\n",
       "    .dataframe thead th {\n",
       "        text-align: right;\n",
       "    }\n",
       "</style>\n",
       "<table border=\"1\" class=\"dataframe\">\n",
       "  <thead>\n",
       "    <tr style=\"text-align: right;\">\n",
       "      <th></th>\n",
       "      <th>CampaignTitle</th>\n",
       "      <th>Sector</th>\n",
       "      <th>Results</th>\n",
       "      <th>Coverage</th>\n",
       "      <th>Impressions</th>\n",
       "      <th>USD spent</th>\n",
       "      <th>StartDate</th>\n",
       "      <th>EndDate</th>\n",
       "      <th>Objetive</th>\n",
       "    </tr>\n",
       "  </thead>\n",
       "  <tbody>\n",
       "    <tr>\n",
       "      <th>0</th>\n",
       "      <td>Liberta Voyages - Engagement avec une publicat...</td>\n",
       "      <td>Travel</td>\n",
       "      <td>214</td>\n",
       "      <td>1296</td>\n",
       "      <td>1328</td>\n",
       "      <td>1.45</td>\n",
       "      <td>2018-11-09</td>\n",
       "      <td>2018-11-17</td>\n",
       "      <td>Interaction</td>\n",
       "    </tr>\n",
       "    <tr>\n",
       "      <th>1</th>\n",
       "      <td>Liberta Voyages - Engagement avec une publicat...</td>\n",
       "      <td>Travel</td>\n",
       "      <td>931</td>\n",
       "      <td>4220</td>\n",
       "      <td>4299</td>\n",
       "      <td>1.22</td>\n",
       "      <td>2018-11-09</td>\n",
       "      <td>2018-11-17</td>\n",
       "      <td>Interaction</td>\n",
       "    </tr>\n",
       "    <tr>\n",
       "      <th>2</th>\n",
       "      <td>Publication : ‎« ‎الحمد لله و الصلاة و السلام ...</td>\n",
       "      <td>Travel</td>\n",
       "      <td>120</td>\n",
       "      <td>32321</td>\n",
       "      <td>46095</td>\n",
       "      <td>15.98</td>\n",
       "      <td>2018-12-06</td>\n",
       "      <td>2018-12-11</td>\n",
       "      <td>Messages</td>\n",
       "    </tr>\n",
       "    <tr>\n",
       "      <th>3</th>\n",
       "      <td>Publication : ‎« ‎ليبرتا تجمّد الأسعار للموسم ...</td>\n",
       "      <td>Travel</td>\n",
       "      <td>195</td>\n",
       "      <td>54121</td>\n",
       "      <td>80225</td>\n",
       "      <td>20.00</td>\n",
       "      <td>2018-12-06</td>\n",
       "      <td>2018-12-11</td>\n",
       "      <td>Messages</td>\n",
       "    </tr>\n",
       "    <tr>\n",
       "      <th>4</th>\n",
       "      <td>[09/11/2018] Promotion de Testour</td>\n",
       "      <td>Travel</td>\n",
       "      <td>520</td>\n",
       "      <td>15340</td>\n",
       "      <td>28771</td>\n",
       "      <td>7.73</td>\n",
       "      <td>2018-12-07</td>\n",
       "      <td>2018-12-11</td>\n",
       "      <td>Mentions J’aime une Page</td>\n",
       "    </tr>\n",
       "  </tbody>\n",
       "</table>\n",
       "</div>"
      ],
      "text/plain": [
       "                                       CampaignTitle  Sector  Results  \\\n",
       "0  Liberta Voyages - Engagement avec une publicat...  Travel      214   \n",
       "1  Liberta Voyages - Engagement avec une publicat...  Travel      931   \n",
       "2  Publication : ‎« ‎الحمد لله و الصلاة و السلام ...  Travel      120   \n",
       "3  Publication : ‎« ‎ليبرتا تجمّد الأسعار للموسم ...  Travel      195   \n",
       "4                  [09/11/2018] Promotion de Testour  Travel      520   \n",
       "\n",
       "   Coverage  Impressions  USD spent   StartDate     EndDate  \\\n",
       "0      1296         1328       1.45  2018-11-09  2018-11-17   \n",
       "1      4220         4299       1.22  2018-11-09  2018-11-17   \n",
       "2     32321        46095      15.98  2018-12-06  2018-12-11   \n",
       "3     54121        80225      20.00  2018-12-06  2018-12-11   \n",
       "4     15340        28771       7.73  2018-12-07  2018-12-11   \n",
       "\n",
       "                   Objetive  \n",
       "0               Interaction  \n",
       "1               Interaction  \n",
       "2                  Messages  \n",
       "3                  Messages  \n",
       "4  Mentions J’aime une Page  "
      ]
     },
     "execution_count": null,
     "metadata": {},
     "output_type": "execute_result"
    }
   ],
   "source": [
    "Xy_train.head()"
   ]
  },
  {
   "cell_type": "markdown",
   "metadata": {},
   "source": [
    "Here, we must decide the nature of our outputs before continuing to the modeling stage (target values). There are two choices available to us. The first is to predict integer values, which requires the addition of a particular function, like the Poisson distribution, to the final layer of a neural network model. The second technique involves applying a log function to convert our target variables to double in order to produce variables that are simpler to model."
   ]
  },
  {
   "cell_type": "markdown",
   "metadata": {},
   "source": [
    "We are developing up a Python class called \"TransformCampaign\" to apply data preprocessing and some data engineering.Due to “BaseEstimator\" and \"TransformerMixin\", this class can be used throughout data pipelines and apply fit and transform functions."
   ]
  },
  {
   "cell_type": "markdown",
   "metadata": {},
   "source": [
    "Several functions that will aid in data processing are being implemented in this class. The first is the \"OneHot\" Encoder, which converts categorical features to numeric. Additionally, we are making use of the two date columns (Start date and end Date) that we have by extracting the campaign's duration, determining the number of weekends during this time, considering any holidays (we have only considered Tunisian Holidays), determining the season and finally, converting the target values to a decimal format using the log function."
   ]
  },
  {
   "cell_type": "markdown",
   "metadata": {},
   "source": [
    "# Transformer"
   ]
  },
  {
   "cell_type": "code",
   "execution_count": null,
   "metadata": {},
   "outputs": [],
   "source": [
    "# |export\n",
    "class TransformCampaign(BaseEstimator, TransformerMixin):\n",
    "    def __init__(self):\n",
    "        \"\"\"Constructor\"\"\"\n",
    "        self.ohe = OneHotEncoder()\n",
    "        self.categorical_cols = [\"Sector\", \"Objetive\", \"Season\"]\n",
    "\n",
    "    def fit(self, X: pd.DataFrame, y=None):\n",
    "        \"\"\"fit function to prepare data\"\"\"\n",
    "        X_ = X.copy()\n",
    "        return self\n",
    "\n",
    "    def number_of_weekends(self, startDate: datetime, endDate: datetime) -> int:\n",
    "        \"\"\"determine how many weekends there are in a particular timeframe.\"\"\"\n",
    "        duration = (endDate - startDate).days + 1\n",
    "        date_list = [startDate + timedelta(days=x) for x in range(duration)]\n",
    "        week_end_days = 0\n",
    "        for date in date_list:\n",
    "            if date.weekday() > 4:\n",
    "                week_end_days = week_end_days + 1\n",
    "        return week_end_days\n",
    "\n",
    "    def is_holiday(self, starDate: datetime, endDate: datetime, endDateYear: int):\n",
    "        \"\"\"check whether there are any holidays at a specific time period.\"\"\"\n",
    "        holi_days = []\n",
    "        for date, name in sorted(holidays.TN(years=endDateYear).items()):\n",
    "            holi_days.append({\"date\": date, \"holiday\": name})\n",
    "        holi_days = pd.DataFrame(holi_days)\n",
    "        holi_days[\"date\"] = pd.to_datetime(holi_days[\"date\"])\n",
    "        number_of_holidays = 0\n",
    "        for _, row in holi_days.iterrows():\n",
    "            date = row[\"date\"]\n",
    "            if starDate <= date <= endDate:\n",
    "                number_of_holidays = number_of_holidays + 1\n",
    "        return int(number_of_holidays > 0)\n",
    "\n",
    "    def season_of_date(self, date):\n",
    "        \"\"\"determine the season of a given date\"\"\"\n",
    "        year = str(date.year)\n",
    "        seasons = {\n",
    "            \"spring\": pd.date_range(start=\"21-03-\" + year, end=\"20-06-\" + year),\n",
    "            \"summer\": pd.date_range(start=\"21-06-\" + year, end=\"22-09-\" + year),\n",
    "            \"autumn\": pd.date_range(start=\"23-09-\" + year, end=\"20-12-\" + year),\n",
    "        }\n",
    "        if date in seasons[\"spring\"]:\n",
    "            return \"spring\"\n",
    "        if date in seasons[\"summer\"]:\n",
    "            return \"summer\"\n",
    "        if date in seasons[\"autumn\"]:\n",
    "            return \"autumn\"\n",
    "        else:\n",
    "            return \"winter\"\n",
    "\n",
    "    def transform(self, X: pd.DataFrame, y=None, data_type=\"train\"):\n",
    "        \"\"\"transform data and create new features\"\"\"\n",
    "        X_ = X.copy()\n",
    "        # 1. Extract new features from dates\n",
    "        # convert startDate and EndDate to a date format\n",
    "        X_.StartDate = pd.to_datetime(X_.StartDate)\n",
    "        X_.EndDate = pd.to_datetime(X_.EndDate)\n",
    "        # extract year from dates\n",
    "        X_[\"StartDateYear\"] = X_.StartDate.apply(lambda d: d.year)\n",
    "        X_[\"EndDateYear\"] = X_.EndDate.apply(lambda d: d.year)\n",
    "        # extract duration\n",
    "        X_[\"duration\"] = (X_[\"EndDate\"] - X_[\"StartDate\"]).dt.days\n",
    "        # extract if thr's a holiday\n",
    "        X_[\"Holidays\"] = X_.apply(\n",
    "            lambda campaign: self.is_holiday(\n",
    "                campaign[\"StartDate\"], campaign[\"EndDate\"], campaign[\"EndDateYear\"]\n",
    "            ),\n",
    "            axis=1,\n",
    "        )\n",
    "        # number of weekends\n",
    "        X_[\"NumberOfWeekends\"] = X_.apply(\n",
    "            lambda campaign: self.number_of_weekends(\n",
    "                campaign[\"StartDate\"], campaign[\"EndDate\"]\n",
    "            ),\n",
    "            axis=1,\n",
    "        )\n",
    "        # Season\n",
    "        X_[\"Season\"] = X_.apply(\n",
    "            lambda campaign: self.season_of_date(campaign[\"StartDate\"])\n",
    "            + \"-\"\n",
    "            + self.season_of_date(campaign[\"EndDate\"]),\n",
    "            axis=1,\n",
    "        )\n",
    "        # delete title, date columns\n",
    "        X_.drop(\n",
    "            [\"CampaignTitle\", \"StartDate\", \"EndDate\", \"StartDateYear\", \"EndDateYear\"],\n",
    "            axis=1,\n",
    "            inplace=True,\n",
    "            errors=\"ignore\",\n",
    "        )\n",
    "        # 2. encode categorical variables\n",
    "        if data_type == \"train\":\n",
    "            self.ohe.fit(X_.loc[:, self.categorical_cols])\n",
    "        catego_sparse = self.ohe.transform(X_.loc[:, self.categorical_cols])\n",
    "        catego_encoded = catego_sparse.toarray()\n",
    "        features = self.ohe.get_feature_names_out(self.categorical_cols)\n",
    "        df_catego_encoded = pd.DataFrame(\n",
    "            catego_encoded, index=X_.index, columns=features\n",
    "        )\n",
    "        X_ = pd.concat([X_, df_catego_encoded], axis=1)\n",
    "        X_.drop(self.categorical_cols, axis=1, inplace=True, errors=\"ignore\")\n",
    "        # 3. transform target values to double by applying log function\n",
    "        if \"Results\" in X_.columns:\n",
    "            # eliminate outliers\n",
    "            # max and min threshold for results\n",
    "            max_th_r = X_[\"Results\"].quantile(0.95)\n",
    "            min_th_r = X_[\"Results\"].quantile(0.05)\n",
    "            X_ = X_[(X_.Results < max_th_r) & (X_.Results > min_th_r)]\n",
    "            # max and min threshold for Coverage\n",
    "            max_th_c = X_[\"Coverage\"].quantile(0.95)\n",
    "            min_th_c = X_[\"Coverage\"].quantile(0.05)\n",
    "            X_ = X_[(X_.Coverage < max_th_c) & (X_.Coverage > min_th_c)]\n",
    "            # max and min threshold for Impressions\n",
    "            max_th_i = X_[\"Impressions\"].quantile(0.95)\n",
    "            min_th_i = X_[\"Impressions\"].quantile(0.05)\n",
    "            X_ = X_[(X_.Impressions < max_th_i) & (X_.Impressions > min_th_i)]\n",
    "            # divide by Usd spent\n",
    "            X_[\"Results\"] = X_[\"Results\"] / X_[\"USD spent\"]\n",
    "            X_[\"Coverage\"] = X_[\"Coverage\"] / X_[\"USD spent\"]\n",
    "            X_[\"Impressions\"] = X_[\"Impressions\"] / X_[\"USD spent\"]\n",
    "            # apply log\n",
    "            X_[\"Results\"] = X_[\"Results\"].apply(lambda r: 0 if r <= 0 else np.log2(r))\n",
    "            X_[\"Coverage\"] = X_[\"Coverage\"].apply(lambda c: 0 if c <= 0 else np.log2(c))\n",
    "            X_[\"Impressions\"] = X_[\"Impressions\"].apply(\n",
    "                lambda i: 0 if i <= 0 else np.log2(i)\n",
    "            )\n",
    "\n",
    "        return X_"
   ]
  },
  {
   "cell_type": "markdown",
   "metadata": {},
   "source": [
    "# Call Transformer"
   ]
  },
  {
   "cell_type": "code",
   "execution_count": null,
   "metadata": {},
   "outputs": [],
   "source": [
    "trsf = TransformCampaign()\n",
    "X_trsf = trsf.fit_transform(Xy_train)"
   ]
  },
  {
   "cell_type": "code",
   "execution_count": null,
   "metadata": {},
   "outputs": [
    {
     "data": {
      "text/html": [
       "<div>\n",
       "<style scoped>\n",
       "    .dataframe tbody tr th:only-of-type {\n",
       "        vertical-align: middle;\n",
       "    }\n",
       "\n",
       "    .dataframe tbody tr th {\n",
       "        vertical-align: top;\n",
       "    }\n",
       "\n",
       "    .dataframe thead th {\n",
       "        text-align: right;\n",
       "    }\n",
       "</style>\n",
       "<table border=\"1\" class=\"dataframe\">\n",
       "  <thead>\n",
       "    <tr style=\"text-align: right;\">\n",
       "      <th></th>\n",
       "      <th>Results</th>\n",
       "      <th>Coverage</th>\n",
       "      <th>Impressions</th>\n",
       "      <th>USD spent</th>\n",
       "      <th>duration</th>\n",
       "      <th>Holidays</th>\n",
       "      <th>NumberOfWeekends</th>\n",
       "      <th>Sector_Automotive</th>\n",
       "      <th>Sector_B2B</th>\n",
       "      <th>Sector_Ecommerce &amp; Retail</th>\n",
       "      <th>...</th>\n",
       "      <th>Objetive_Messages</th>\n",
       "      <th>Objetive_Trafic</th>\n",
       "      <th>Season_autumn-autumn</th>\n",
       "      <th>Season_autumn-winter</th>\n",
       "      <th>Season_spring-spring</th>\n",
       "      <th>Season_spring-summer</th>\n",
       "      <th>Season_summer-autumn</th>\n",
       "      <th>Season_summer-summer</th>\n",
       "      <th>Season_winter-spring</th>\n",
       "      <th>Season_winter-winter</th>\n",
       "    </tr>\n",
       "  </thead>\n",
       "  <tbody>\n",
       "    <tr>\n",
       "      <th>2</th>\n",
       "      <td>2.908695</td>\n",
       "      <td>10.981989</td>\n",
       "      <td>11.494127</td>\n",
       "      <td>15.98</td>\n",
       "      <td>5</td>\n",
       "      <td>0</td>\n",
       "      <td>2</td>\n",
       "      <td>0.0</td>\n",
       "      <td>0.0</td>\n",
       "      <td>0.0</td>\n",
       "      <td>...</td>\n",
       "      <td>1.0</td>\n",
       "      <td>0.0</td>\n",
       "      <td>1.0</td>\n",
       "      <td>0.0</td>\n",
       "      <td>0.0</td>\n",
       "      <td>0.0</td>\n",
       "      <td>0.0</td>\n",
       "      <td>0.0</td>\n",
       "      <td>0.0</td>\n",
       "      <td>0.0</td>\n",
       "    </tr>\n",
       "    <tr>\n",
       "      <th>3</th>\n",
       "      <td>3.285402</td>\n",
       "      <td>11.401973</td>\n",
       "      <td>11.969836</td>\n",
       "      <td>20.00</td>\n",
       "      <td>5</td>\n",
       "      <td>0</td>\n",
       "      <td>2</td>\n",
       "      <td>0.0</td>\n",
       "      <td>0.0</td>\n",
       "      <td>0.0</td>\n",
       "      <td>...</td>\n",
       "      <td>1.0</td>\n",
       "      <td>0.0</td>\n",
       "      <td>1.0</td>\n",
       "      <td>0.0</td>\n",
       "      <td>0.0</td>\n",
       "      <td>0.0</td>\n",
       "      <td>0.0</td>\n",
       "      <td>0.0</td>\n",
       "      <td>0.0</td>\n",
       "      <td>0.0</td>\n",
       "    </tr>\n",
       "    <tr>\n",
       "      <th>4</th>\n",
       "      <td>6.071899</td>\n",
       "      <td>10.954542</td>\n",
       "      <td>11.861859</td>\n",
       "      <td>7.73</td>\n",
       "      <td>4</td>\n",
       "      <td>0</td>\n",
       "      <td>2</td>\n",
       "      <td>0.0</td>\n",
       "      <td>0.0</td>\n",
       "      <td>0.0</td>\n",
       "      <td>...</td>\n",
       "      <td>0.0</td>\n",
       "      <td>0.0</td>\n",
       "      <td>1.0</td>\n",
       "      <td>0.0</td>\n",
       "      <td>0.0</td>\n",
       "      <td>0.0</td>\n",
       "      <td>0.0</td>\n",
       "      <td>0.0</td>\n",
       "      <td>0.0</td>\n",
       "      <td>0.0</td>\n",
       "    </tr>\n",
       "    <tr>\n",
       "      <th>5</th>\n",
       "      <td>5.605130</td>\n",
       "      <td>10.104277</td>\n",
       "      <td>10.779776</td>\n",
       "      <td>64.94</td>\n",
       "      <td>12</td>\n",
       "      <td>0</td>\n",
       "      <td>4</td>\n",
       "      <td>0.0</td>\n",
       "      <td>0.0</td>\n",
       "      <td>0.0</td>\n",
       "      <td>...</td>\n",
       "      <td>0.0</td>\n",
       "      <td>0.0</td>\n",
       "      <td>1.0</td>\n",
       "      <td>0.0</td>\n",
       "      <td>0.0</td>\n",
       "      <td>0.0</td>\n",
       "      <td>0.0</td>\n",
       "      <td>0.0</td>\n",
       "      <td>0.0</td>\n",
       "      <td>0.0</td>\n",
       "    </tr>\n",
       "    <tr>\n",
       "      <th>6</th>\n",
       "      <td>2.219358</td>\n",
       "      <td>11.191053</td>\n",
       "      <td>11.278774</td>\n",
       "      <td>4.08</td>\n",
       "      <td>1</td>\n",
       "      <td>0</td>\n",
       "      <td>0</td>\n",
       "      <td>0.0</td>\n",
       "      <td>0.0</td>\n",
       "      <td>0.0</td>\n",
       "      <td>...</td>\n",
       "      <td>1.0</td>\n",
       "      <td>0.0</td>\n",
       "      <td>1.0</td>\n",
       "      <td>0.0</td>\n",
       "      <td>0.0</td>\n",
       "      <td>0.0</td>\n",
       "      <td>0.0</td>\n",
       "      <td>0.0</td>\n",
       "      <td>0.0</td>\n",
       "      <td>0.0</td>\n",
       "    </tr>\n",
       "  </tbody>\n",
       "</table>\n",
       "<p>5 rows × 25 columns</p>\n",
       "</div>"
      ],
      "text/plain": [
       "    Results   Coverage  Impressions  USD spent  duration  Holidays  \\\n",
       "2  2.908695  10.981989    11.494127      15.98         5         0   \n",
       "3  3.285402  11.401973    11.969836      20.00         5         0   \n",
       "4  6.071899  10.954542    11.861859       7.73         4         0   \n",
       "5  5.605130  10.104277    10.779776      64.94        12         0   \n",
       "6  2.219358  11.191053    11.278774       4.08         1         0   \n",
       "\n",
       "   NumberOfWeekends  Sector_Automotive  Sector_B2B  Sector_Ecommerce & Retail  \\\n",
       "2                 2                0.0         0.0                        0.0   \n",
       "3                 2                0.0         0.0                        0.0   \n",
       "4                 2                0.0         0.0                        0.0   \n",
       "5                 4                0.0         0.0                        0.0   \n",
       "6                 0                0.0         0.0                        0.0   \n",
       "\n",
       "   ...  Objetive_Messages  Objetive_Trafic  Season_autumn-autumn  \\\n",
       "2  ...                1.0              0.0                   1.0   \n",
       "3  ...                1.0              0.0                   1.0   \n",
       "4  ...                0.0              0.0                   1.0   \n",
       "5  ...                0.0              0.0                   1.0   \n",
       "6  ...                1.0              0.0                   1.0   \n",
       "\n",
       "   Season_autumn-winter  Season_spring-spring  Season_spring-summer  \\\n",
       "2                   0.0                   0.0                   0.0   \n",
       "3                   0.0                   0.0                   0.0   \n",
       "4                   0.0                   0.0                   0.0   \n",
       "5                   0.0                   0.0                   0.0   \n",
       "6                   0.0                   0.0                   0.0   \n",
       "\n",
       "   Season_summer-autumn  Season_summer-summer  Season_winter-spring  \\\n",
       "2                   0.0                   0.0                   0.0   \n",
       "3                   0.0                   0.0                   0.0   \n",
       "4                   0.0                   0.0                   0.0   \n",
       "5                   0.0                   0.0                   0.0   \n",
       "6                   0.0                   0.0                   0.0   \n",
       "\n",
       "   Season_winter-winter  \n",
       "2                   0.0  \n",
       "3                   0.0  \n",
       "4                   0.0  \n",
       "5                   0.0  \n",
       "6                   0.0  \n",
       "\n",
       "[5 rows x 25 columns]"
      ]
     },
     "execution_count": null,
     "metadata": {},
     "output_type": "execute_result"
    }
   ],
   "source": [
    "X_trsf.head()"
   ]
  },
  {
   "cell_type": "markdown",
   "metadata": {},
   "source": [
    "# Target Values Distribution after Transformations"
   ]
  },
  {
   "cell_type": "markdown",
   "metadata": {},
   "source": [
    "We exhibit the distribution of the target values before to applying the mentioned transformation (second option)."
   ]
  },
  {
   "cell_type": "markdown",
   "metadata": {},
   "source": [
    "## Coverage Output"
   ]
  },
  {
   "cell_type": "code",
   "execution_count": null,
   "metadata": {},
   "outputs": [
    {
     "data": {
      "image/png": "[encoded data removed]",
      "text/plain": [
       "<Figure size 720x360 with 1 Axes>"
      ]
     },
     "metadata": {
      "needs_background": "light"
     },
     "output_type": "display_data"
    }
   ],
   "source": [
    "plt.figure(figsize=(10, 5))\n",
    "plt.xlim(0, 100)\n",
    "plt.xlabel(\"Coverage\")\n",
    "plt.ylabel(\"Density\")\n",
    "sns.kdeplot(X_trsf[\"Coverage\"], shade=True)\n",
    "plt.show()"
   ]
  },
  {
   "cell_type": "markdown",
   "metadata": {},
   "source": [
    "## Results Output"
   ]
  },
  {
   "cell_type": "code",
   "execution_count": null,
   "metadata": {},
   "outputs": [
    {
     "data": {
      "image/png": "[encoded data removed]",
      "text/plain": [
       "<Figure size 720x360 with 1 Axes>"
      ]
     },
     "metadata": {
      "needs_background": "light"
     },
     "output_type": "display_data"
    }
   ],
   "source": [
    "plt.figure(figsize=(10, 5))\n",
    "plt.xlim(0, 100)\n",
    "plt.xlabel(\"Results\")\n",
    "plt.ylabel(\"Density\")\n",
    "sns.kdeplot(X_trsf[\"Results\"], shade=True)\n",
    "plt.show()"
   ]
  },
  {
   "cell_type": "markdown",
   "metadata": {},
   "source": [
    "## Impressions Output"
   ]
  },
  {
   "cell_type": "code",
   "execution_count": null,
   "metadata": {},
   "outputs": [
    {
     "data": {
      "image/png": "[encoded data removed]",
      "text/plain": [
       "<Figure size 720x360 with 1 Axes>"
      ]
     },
     "metadata": {
      "needs_background": "light"
     },
     "output_type": "display_data"
    }
   ],
   "source": [
    "plt.figure(figsize=(10, 5))\n",
    "plt.xlim(0, 100)\n",
    "plt.xlabel(\"Impressions\")\n",
    "plt.ylabel(\"Density\")\n",
    "sns.kdeplot(X_trsf[\"Impressions\"], shade=True)\n",
    "plt.show()"
   ]
  }
 ],
 "metadata": {
  "kernelspec": {
   "display_name": "Python 3 (ipykernel)",
   "language": "python",
   "name": "python3"
  }
 },
 "nbformat": 4,
 "nbformat_minor": 4
}
